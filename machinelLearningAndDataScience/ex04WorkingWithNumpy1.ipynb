{
 "cells": [
  {
   "cell_type": "code",
   "execution_count": 1,
   "id": "0a17af55-a703-4fbe-8031-005189fa00d2",
   "metadata": {},
   "outputs": [],
   "source": [
    "import numpy as np"
   ]
  },
  {
   "cell_type": "markdown",
   "id": "93b9bf83-6e9f-4a05-91d8-16000e350621",
   "metadata": {},
   "source": [
    "<h1>Data types and attributes</h1>"
   ]
  },
  {
   "cell_type": "code",
   "execution_count": 2,
   "id": "1c16261d-1f21-413b-9966-49156a088726",
   "metadata": {},
   "outputs": [
    {
     "data": {
      "text/plain": [
       "array([1, 2, 3])"
      ]
     },
     "execution_count": 2,
     "metadata": {},
     "output_type": "execute_result"
    }
   ],
   "source": [
    "#numpy's main datatype is ndarray\n",
    "a1 = np.array([1,2,3])\n",
    "a1"
   ]
  },
  {
   "cell_type": "code",
   "execution_count": 3,
   "id": "3f530394-a8b0-40cc-a146-cfebe3b0c0b2",
   "metadata": {},
   "outputs": [
    {
     "data": {
      "text/plain": [
       "numpy.ndarray"
      ]
     },
     "execution_count": 3,
     "metadata": {},
     "output_type": "execute_result"
    }
   ],
   "source": [
    "type(a1)"
   ]
  },
  {
   "cell_type": "code",
   "execution_count": 6,
   "id": "711afdcd-f297-4858-9cd0-b22797493326",
   "metadata": {},
   "outputs": [],
   "source": [
    "a2 = np.array([[1,2.0, 3.3],\n",
    "               [4,5, 6.5]])\n",
    "\n",
    "a3 = np.array([[[1,2,3], \n",
    "                [4,5,6],\n",
    "                [7,8,9]],\n",
    "               [[10,11,12],\n",
    "                [13,14,15],\n",
    "                [16,17,18]]])"
   ]
  },
  {
   "cell_type": "code",
   "execution_count": 16,
   "id": "b7ea0618-ab77-4150-8c6e-f6b485ab2725",
   "metadata": {},
   "outputs": [
    {
     "data": {
      "text/plain": [
       "array([[1., 1., 1.],\n",
       "       [1., 1., 1.]])"
      ]
     },
     "execution_count": 16,
     "metadata": {},
     "output_type": "execute_result"
    }
   ],
   "source": [
    "# creating numpy arrays with 1 where-in  we mention the shape\n",
    "ones = np.ones((2,3))\n",
    "ones"
   ]
  },
  {
   "cell_type": "code",
   "execution_count": 18,
   "id": "3ffca228-832a-4b49-86dc-8f1072a37512",
   "metadata": {},
   "outputs": [
    {
     "data": {
      "text/plain": [
       "array([[0., 0., 0.],\n",
       "       [0., 0., 0.]])"
      ]
     },
     "execution_count": 18,
     "metadata": {},
     "output_type": "execute_result"
    }
   ],
   "source": [
    "#similarly creating numpy arrays filled with zeros\n",
    "zeros = np.zeros((2,3))\n",
    "zeros"
   ]
  },
  {
   "cell_type": "code",
   "execution_count": 21,
   "id": "6fc2974c-23d0-481a-849a-7f12e3c2c319",
   "metadata": {},
   "outputs": [
    {
     "data": {
      "text/plain": [
       "array([0, 2, 4, 6, 8])"
      ]
     },
     "execution_count": 21,
     "metadata": {},
     "output_type": "execute_result"
    }
   ],
   "source": [
    "# creating numpy array with range of values\n",
    "range_array = np.arange(0,10,2)\n",
    "range_array"
   ]
  },
  {
   "cell_type": "code",
   "execution_count": 23,
   "id": "b02c85cc-5a33-4a88-8396-a970efe94adc",
   "metadata": {},
   "outputs": [
    {
     "data": {
      "text/plain": [
       "array([[1, 7, 7, 2, 9],\n",
       "       [5, 4, 4, 6, 0],\n",
       "       [0, 3, 8, 5, 9]])"
      ]
     },
     "execution_count": 23,
     "metadata": {},
     "output_type": "execute_result"
    }
   ],
   "source": [
    "# creating array with randomly generated values\n",
    "# the below creates an array of size =3,5 where the range of random values is between low(0 here ) \n",
    "# high (10 here ) . its to be noted that the generated values will be low inclusive and high exclusive\n",
    "random_array = np.random.randint(0,10, size=(3,5))\n",
    "random_array                                 "
   ]
  },
  {
   "cell_type": "code",
   "execution_count": 28,
   "id": "7bf9eb9d-7aaa-406c-9c54-d1ad600bac0b",
   "metadata": {},
   "outputs": [
    {
     "data": {
      "text/plain": [
       "array([[0.43190306, 0.49053714, 0.15369336],\n",
       "       [0.88991384, 0.93671871, 0.66554535],\n",
       "       [0.70327899, 0.95394901, 0.25885596],\n",
       "       [0.01040778, 0.36604011, 0.14662108],\n",
       "       [0.06799695, 0.47546925, 0.34814169]])"
      ]
     },
     "execution_count": 28,
     "metadata": {},
     "output_type": "execute_result"
    }
   ],
   "source": [
    "#another way of creating random array\n",
    "# note that here we not passing any range for random values , but passing only the size\n",
    "# also note that in this case it comes up with float values\n",
    "random_array2 = np.random.random((5,3))\n",
    "random_array2"
   ]
  },
  {
   "cell_type": "code",
   "execution_count": 31,
   "id": "d377dae4-efa9-4099-ba2a-f28e2d44fcca",
   "metadata": {},
   "outputs": [
    {
     "data": {
      "text/plain": [
       "array([[0.36150437, 0.48736534, 0.79015782],\n",
       "       [0.63995111, 0.29752006, 0.27528889],\n",
       "       [0.44372903, 0.98066187, 0.29363768],\n",
       "       [0.86455715, 0.45039862, 0.52820095],\n",
       "       [0.79439748, 0.73508833, 0.51531014]])"
      ]
     },
     "execution_count": 31,
     "metadata": {},
     "output_type": "execute_result"
    }
   ],
   "source": [
    "# another alternate way of doing the previous is as follows\n",
    "random_array3 = np.random.rand(5,3)\n",
    "random_array3"
   ]
  },
  {
   "cell_type": "markdown",
   "id": "2663edc0-6925-4225-b297-f130dbad8d8a",
   "metadata": {},
   "source": [
    "<h4>getting the dimensions of a numpy array</h4>"
   ]
  },
  {
   "cell_type": "code",
   "execution_count": 7,
   "id": "3d2fa428-3761-47e8-a3e2-83e1072717cf",
   "metadata": {},
   "outputs": [
    {
     "data": {
      "text/plain": [
       "(1, 2, 3)"
      ]
     },
     "execution_count": 7,
     "metadata": {},
     "output_type": "execute_result"
    }
   ],
   "source": [
    "a1.ndim , a2.ndim , a3.ndim"
   ]
  },
  {
   "cell_type": "markdown",
   "id": "0895f912-f9e7-44cc-9a32-819eac16f6ab",
   "metadata": {},
   "source": [
    "<h4>getting the datatype</h4>"
   ]
  },
  {
   "cell_type": "code",
   "execution_count": 8,
   "id": "f4920bb2-d3f0-441a-a906-fc4fe6e56f38",
   "metadata": {},
   "outputs": [
    {
     "data": {
      "text/plain": [
       "(dtype('int32'), dtype('float64'), dtype('int32'))"
      ]
     },
     "execution_count": 8,
     "metadata": {},
     "output_type": "execute_result"
    }
   ],
   "source": [
    "a1.dtype , a2.dtype , a3.dtype"
   ]
  },
  {
   "cell_type": "markdown",
   "id": "f8ce45ea-5179-4620-a20c-cb3149fa1fd4",
   "metadata": {},
   "source": [
    "<h4>getting the size</h4>"
   ]
  },
  {
   "cell_type": "code",
   "execution_count": 11,
   "id": "7c2b0dc0-2b2c-4c7f-a8c0-9cc69e83cfeb",
   "metadata": {},
   "outputs": [
    {
     "data": {
      "text/plain": [
       "(3, 6, 18)"
      ]
     },
     "execution_count": 11,
     "metadata": {},
     "output_type": "execute_result"
    }
   ],
   "source": [
    "# size tells us how many elements we have got in the array\n",
    "a1.size , a2.size , a3.size"
   ]
  },
  {
   "cell_type": "markdown",
   "id": "0cf78b79-e0e1-422b-acd4-67551bfe4429",
   "metadata": {},
   "source": [
    "<h4>getting the shape</h4>"
   ]
  },
  {
   "cell_type": "code",
   "execution_count": 24,
   "id": "beb97479-c132-4c71-8596-48943bf79375",
   "metadata": {},
   "outputs": [
    {
     "data": {
      "text/plain": [
       "((3,), (2, 3), (2, 3, 3))"
      ]
     },
     "execution_count": 24,
     "metadata": {},
     "output_type": "execute_result"
    }
   ],
   "source": [
    "# getting shape of ndarray\n",
    "a1.shape, a2.shape , a3.shape"
   ]
  },
  {
   "cell_type": "markdown",
   "id": "4fe0e937-a32e-4967-a820-7b4de35c3421",
   "metadata": {},
   "source": [
    "<h1>creating pandas dataframe from numpy array</h1>"
   ]
  },
  {
   "cell_type": "code",
   "execution_count": 14,
   "id": "55a2037b-bb51-477f-a430-f7e96b731a24",
   "metadata": {},
   "outputs": [
    {
     "data": {
      "text/html": [
       "<div>\n",
       "<style scoped>\n",
       "    .dataframe tbody tr th:only-of-type {\n",
       "        vertical-align: middle;\n",
       "    }\n",
       "\n",
       "    .dataframe tbody tr th {\n",
       "        vertical-align: top;\n",
       "    }\n",
       "\n",
       "    .dataframe thead th {\n",
       "        text-align: right;\n",
       "    }\n",
       "</style>\n",
       "<table border=\"1\" class=\"dataframe\">\n",
       "  <thead>\n",
       "    <tr style=\"text-align: right;\">\n",
       "      <th></th>\n",
       "      <th>0</th>\n",
       "      <th>1</th>\n",
       "      <th>2</th>\n",
       "    </tr>\n",
       "  </thead>\n",
       "  <tbody>\n",
       "    <tr>\n",
       "      <th>0</th>\n",
       "      <td>1.0</td>\n",
       "      <td>2.0</td>\n",
       "      <td>3.3</td>\n",
       "    </tr>\n",
       "    <tr>\n",
       "      <th>1</th>\n",
       "      <td>4.0</td>\n",
       "      <td>5.0</td>\n",
       "      <td>6.5</td>\n",
       "    </tr>\n",
       "  </tbody>\n",
       "</table>\n",
       "</div>"
      ],
      "text/plain": [
       "     0    1    2\n",
       "0  1.0  2.0  3.3\n",
       "1  4.0  5.0  6.5"
      ]
     },
     "execution_count": 14,
     "metadata": {},
     "output_type": "execute_result"
    }
   ],
   "source": [
    "import pandas as pd\n",
    "\n",
    "df = pd.DataFrame(a2)\n",
    "df"
   ]
  },
  {
   "cell_type": "code",
   "execution_count": null,
   "id": "00b20cca-b79c-4ee8-8af8-3b2ec35887fb",
   "metadata": {},
   "outputs": [],
   "source": []
  }
 ],
 "metadata": {
  "kernelspec": {
   "display_name": "Python 3 (ipykernel)",
   "language": "python",
   "name": "python3"
  },
  "language_info": {
   "codemirror_mode": {
    "name": "ipython",
    "version": 3
   },
   "file_extension": ".py",
   "mimetype": "text/x-python",
   "name": "python",
   "nbconvert_exporter": "python",
   "pygments_lexer": "ipython3",
   "version": "3.12.5"
  }
 },
 "nbformat": 4,
 "nbformat_minor": 5
}

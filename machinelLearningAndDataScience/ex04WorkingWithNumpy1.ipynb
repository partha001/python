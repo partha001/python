{
 "cells": [
  {
   "cell_type": "code",
   "execution_count": 1,
   "id": "0a17af55-a703-4fbe-8031-005189fa00d2",
   "metadata": {},
   "outputs": [],
   "source": [
    "import numpy as np"
   ]
  },
  {
   "cell_type": "markdown",
   "id": "93b9bf83-6e9f-4a05-91d8-16000e350621",
   "metadata": {},
   "source": [
    "<h1>Data types and attributes</h1>"
   ]
  },
  {
   "cell_type": "code",
   "execution_count": 2,
   "id": "1c16261d-1f21-413b-9966-49156a088726",
   "metadata": {},
   "outputs": [
    {
     "data": {
      "text/plain": [
       "array([1, 2, 3])"
      ]
     },
     "execution_count": 2,
     "metadata": {},
     "output_type": "execute_result"
    }
   ],
   "source": [
    "#numpy's main datatype is ndarray\n",
    "a1 = np.array([1,2,3])\n",
    "a1"
   ]
  },
  {
   "cell_type": "code",
   "execution_count": 3,
   "id": "3f530394-a8b0-40cc-a146-cfebe3b0c0b2",
   "metadata": {},
   "outputs": [
    {
     "data": {
      "text/plain": [
       "numpy.ndarray"
      ]
     },
     "execution_count": 3,
     "metadata": {},
     "output_type": "execute_result"
    }
   ],
   "source": [
    "type(a1)"
   ]
  },
  {
   "cell_type": "code",
   "execution_count": 4,
   "id": "711afdcd-f297-4858-9cd0-b22797493326",
   "metadata": {},
   "outputs": [],
   "source": [
    "a2 = np.array([[1,2.0, 3.3],\n",
    "               [4,5, 6.5]])\n",
    "\n",
    "a3 = np.array([[[1,2,3], \n",
    "                [4,5,6],\n",
    "                [7,8,9]],\n",
    "               [[10,11,12],\n",
    "                [13,14,15],\n",
    "                [16,17,18]]])"
   ]
  },
  {
   "cell_type": "code",
   "execution_count": 5,
   "id": "b7ea0618-ab77-4150-8c6e-f6b485ab2725",
   "metadata": {},
   "outputs": [
    {
     "data": {
      "text/plain": [
       "array([[1., 1., 1.],\n",
       "       [1., 1., 1.]])"
      ]
     },
     "execution_count": 5,
     "metadata": {},
     "output_type": "execute_result"
    }
   ],
   "source": [
    "# creating numpy arrays with 1 where-in  we mention the shape\n",
    "ones = np.ones((2,3))\n",
    "ones"
   ]
  },
  {
   "cell_type": "code",
   "execution_count": 6,
   "id": "3ffca228-832a-4b49-86dc-8f1072a37512",
   "metadata": {},
   "outputs": [
    {
     "data": {
      "text/plain": [
       "array([[0., 0., 0.],\n",
       "       [0., 0., 0.]])"
      ]
     },
     "execution_count": 6,
     "metadata": {},
     "output_type": "execute_result"
    }
   ],
   "source": [
    "#similarly creating numpy arrays filled with zeros\n",
    "zeros = np.zeros((2,3))\n",
    "zeros"
   ]
  },
  {
   "cell_type": "code",
   "execution_count": 7,
   "id": "6fc2974c-23d0-481a-849a-7f12e3c2c319",
   "metadata": {},
   "outputs": [
    {
     "data": {
      "text/plain": [
       "array([0, 2, 4, 6, 8])"
      ]
     },
     "execution_count": 7,
     "metadata": {},
     "output_type": "execute_result"
    }
   ],
   "source": [
    "# creating numpy array with range of values\n",
    "range_array = np.arange(0,10,2)\n",
    "range_array"
   ]
  },
  {
   "cell_type": "code",
   "execution_count": 8,
   "id": "b02c85cc-5a33-4a88-8396-a970efe94adc",
   "metadata": {},
   "outputs": [
    {
     "data": {
      "text/plain": [
       "array([[0, 2, 1, 8, 0],\n",
       "       [3, 7, 7, 7, 2],\n",
       "       [8, 8, 1, 6, 3]])"
      ]
     },
     "execution_count": 8,
     "metadata": {},
     "output_type": "execute_result"
    }
   ],
   "source": [
    "# creating array with randomly generated values\n",
    "# the below creates an array of size =3,5 where the range of random values is between low(0 here ) \n",
    "# high (10 here ) . its to be noted that the generated values will be low inclusive and high exclusive\n",
    "random_array = np.random.randint(0,10, size=(3,5))\n",
    "random_array                                 "
   ]
  },
  {
   "cell_type": "code",
   "execution_count": 9,
   "id": "7bf9eb9d-7aaa-406c-9c54-d1ad600bac0b",
   "metadata": {},
   "outputs": [
    {
     "data": {
      "text/plain": [
       "array([[0.96995641, 0.59275372, 0.89594137],\n",
       "       [0.8175869 , 0.71180846, 0.40778609],\n",
       "       [0.14712337, 0.46002654, 0.09937011],\n",
       "       [0.42021329, 0.31838156, 0.57013693],\n",
       "       [0.07437596, 0.15887358, 0.11041563]])"
      ]
     },
     "execution_count": 9,
     "metadata": {},
     "output_type": "execute_result"
    }
   ],
   "source": [
    "#another way of creating random array\n",
    "# note that here we not passing any range for random values , but passing only the size\n",
    "# also note that in this case it comes up with float values\n",
    "random_array2 = np.random.random((5,3))\n",
    "random_array2"
   ]
  },
  {
   "cell_type": "code",
   "execution_count": 10,
   "id": "d377dae4-efa9-4099-ba2a-f28e2d44fcca",
   "metadata": {},
   "outputs": [
    {
     "data": {
      "text/plain": [
       "array([[0.70042498, 0.87588091, 0.51108921],\n",
       "       [0.62554304, 0.53394703, 0.95082794],\n",
       "       [0.12248539, 0.08689098, 0.03025991],\n",
       "       [0.49764731, 0.92133796, 0.25381389],\n",
       "       [0.96148047, 0.16589339, 0.32770524]])"
      ]
     },
     "execution_count": 10,
     "metadata": {},
     "output_type": "execute_result"
    }
   ],
   "source": [
    "# another alternate way of doing the previous is as follows\n",
    "random_array3 = np.random.rand(5,3)\n",
    "random_array3"
   ]
  },
  {
   "cell_type": "code",
   "execution_count": 11,
   "id": "d1d7c4d5-5289-4353-a4fb-f6f00634e0bc",
   "metadata": {},
   "outputs": [
    {
     "data": {
      "text/plain": [
       "array([[0.77132064, 0.02075195, 0.63364823],\n",
       "       [0.74880388, 0.49850701, 0.22479665],\n",
       "       [0.19806286, 0.76053071, 0.16911084],\n",
       "       [0.08833981, 0.68535982, 0.95339335],\n",
       "       [0.00394827, 0.51219226, 0.81262096]])"
      ]
     },
     "execution_count": 11,
     "metadata": {},
     "output_type": "execute_result"
    }
   ],
   "source": [
    "# it is to be noted that everytime we initialize random_array3 it is filled with different\n",
    "# it is filled with different set of values  however if we set the seed to a fixed value then\n",
    "# fixed set of random numbers will be generated based upon the seed\n",
    "np.random.seed(10)\n",
    "random_array4 = np.random.rand(5,3)\n",
    "random_array4"
   ]
  },
  {
   "cell_type": "markdown",
   "id": "2663edc0-6925-4225-b297-f130dbad8d8a",
   "metadata": {},
   "source": [
    "<h4>getting the dimensions of a numpy array</h4>"
   ]
  },
  {
   "cell_type": "code",
   "execution_count": 12,
   "id": "3d2fa428-3761-47e8-a3e2-83e1072717cf",
   "metadata": {},
   "outputs": [
    {
     "data": {
      "text/plain": [
       "(1, 2, 3)"
      ]
     },
     "execution_count": 12,
     "metadata": {},
     "output_type": "execute_result"
    }
   ],
   "source": [
    "a1.ndim , a2.ndim , a3.ndim"
   ]
  },
  {
   "cell_type": "markdown",
   "id": "0895f912-f9e7-44cc-9a32-819eac16f6ab",
   "metadata": {},
   "source": [
    "<h4>getting the datatype</h4>"
   ]
  },
  {
   "cell_type": "code",
   "execution_count": 13,
   "id": "f4920bb2-d3f0-441a-a906-fc4fe6e56f38",
   "metadata": {},
   "outputs": [
    {
     "data": {
      "text/plain": [
       "(dtype('int32'), dtype('float64'), dtype('int32'))"
      ]
     },
     "execution_count": 13,
     "metadata": {},
     "output_type": "execute_result"
    }
   ],
   "source": [
    "a1.dtype , a2.dtype , a3.dtype"
   ]
  },
  {
   "cell_type": "markdown",
   "id": "f8ce45ea-5179-4620-a20c-cb3149fa1fd4",
   "metadata": {},
   "source": [
    "<h4>getting the size</h4>"
   ]
  },
  {
   "cell_type": "code",
   "execution_count": 14,
   "id": "7c2b0dc0-2b2c-4c7f-a8c0-9cc69e83cfeb",
   "metadata": {},
   "outputs": [
    {
     "data": {
      "text/plain": [
       "(3, 6, 18)"
      ]
     },
     "execution_count": 14,
     "metadata": {},
     "output_type": "execute_result"
    }
   ],
   "source": [
    "# size tells us how many elements we have got in the array\n",
    "a1.size , a2.size , a3.size"
   ]
  },
  {
   "cell_type": "markdown",
   "id": "0cf78b79-e0e1-422b-acd4-67551bfe4429",
   "metadata": {},
   "source": [
    "<h4>getting the shape</h4>"
   ]
  },
  {
   "cell_type": "code",
   "execution_count": 15,
   "id": "beb97479-c132-4c71-8596-48943bf79375",
   "metadata": {},
   "outputs": [
    {
     "data": {
      "text/plain": [
       "((3,), (2, 3), (2, 3, 3))"
      ]
     },
     "execution_count": 15,
     "metadata": {},
     "output_type": "execute_result"
    }
   ],
   "source": [
    "# getting shape of ndarray\n",
    "a1.shape, a2.shape , a3.shape"
   ]
  },
  {
   "cell_type": "markdown",
   "id": "4fe0e937-a32e-4967-a820-7b4de35c3421",
   "metadata": {},
   "source": [
    "<h1>creating pandas dataframe from numpy array</h1>"
   ]
  },
  {
   "cell_type": "code",
   "execution_count": 16,
   "id": "55a2037b-bb51-477f-a430-f7e96b731a24",
   "metadata": {},
   "outputs": [
    {
     "data": {
      "text/html": [
       "<div>\n",
       "<style scoped>\n",
       "    .dataframe tbody tr th:only-of-type {\n",
       "        vertical-align: middle;\n",
       "    }\n",
       "\n",
       "    .dataframe tbody tr th {\n",
       "        vertical-align: top;\n",
       "    }\n",
       "\n",
       "    .dataframe thead th {\n",
       "        text-align: right;\n",
       "    }\n",
       "</style>\n",
       "<table border=\"1\" class=\"dataframe\">\n",
       "  <thead>\n",
       "    <tr style=\"text-align: right;\">\n",
       "      <th></th>\n",
       "      <th>0</th>\n",
       "      <th>1</th>\n",
       "      <th>2</th>\n",
       "    </tr>\n",
       "  </thead>\n",
       "  <tbody>\n",
       "    <tr>\n",
       "      <th>0</th>\n",
       "      <td>1.0</td>\n",
       "      <td>2.0</td>\n",
       "      <td>3.3</td>\n",
       "    </tr>\n",
       "    <tr>\n",
       "      <th>1</th>\n",
       "      <td>4.0</td>\n",
       "      <td>5.0</td>\n",
       "      <td>6.5</td>\n",
       "    </tr>\n",
       "  </tbody>\n",
       "</table>\n",
       "</div>"
      ],
      "text/plain": [
       "     0    1    2\n",
       "0  1.0  2.0  3.3\n",
       "1  4.0  5.0  6.5"
      ]
     },
     "execution_count": 16,
     "metadata": {},
     "output_type": "execute_result"
    }
   ],
   "source": [
    "import pandas as pd\n",
    "\n",
    "df = pd.DataFrame(a2)\n",
    "df"
   ]
  },
  {
   "cell_type": "markdown",
   "id": "9eb833ea-5bbc-490d-bfb9-3f4e1af31815",
   "metadata": {},
   "source": [
    "<h1> viewing arrays and matrices</h1>"
   ]
  },
  {
   "cell_type": "code",
   "execution_count": 17,
   "id": "6cc9ad8b-ec23-4888-a4e5-18ec134e8355",
   "metadata": {},
   "outputs": [
    {
     "data": {
      "text/plain": [
       "array([0, 1, 2, 3, 4, 5, 7, 8])"
      ]
     },
     "execution_count": 17,
     "metadata": {},
     "output_type": "execute_result"
    }
   ],
   "source": [
    "# finding all unique numbers\n",
    "np.random.seed(seed=100)\n",
    "random_array_4 = np.random.randint(10, size=(5,3))\n",
    "np.unique(random_array_4)"
   ]
  },
  {
   "cell_type": "code",
   "execution_count": 18,
   "id": "f685d1c7-4d43-44d1-99b9-eb5d0f9f8bf9",
   "metadata": {},
   "outputs": [
    {
     "data": {
      "text/plain": [
       "array([1, 2, 3])"
      ]
     },
     "execution_count": 18,
     "metadata": {},
     "output_type": "execute_result"
    }
   ],
   "source": [
    "a1"
   ]
  },
  {
   "cell_type": "code",
   "execution_count": 19,
   "id": "53f5994b-db78-496f-87f8-dbb998840c07",
   "metadata": {},
   "outputs": [
    {
     "data": {
      "text/plain": [
       "array([[1. , 2. , 3.3],\n",
       "       [4. , 5. , 6.5]])"
      ]
     },
     "execution_count": 19,
     "metadata": {},
     "output_type": "execute_result"
    }
   ],
   "source": [
    "a2"
   ]
  },
  {
   "cell_type": "code",
   "execution_count": 20,
   "id": "4b48e320-f8de-438f-bd73-eebef4b12d51",
   "metadata": {},
   "outputs": [
    {
     "data": {
      "text/plain": [
       "array([[[ 1,  2,  3],\n",
       "        [ 4,  5,  6],\n",
       "        [ 7,  8,  9]],\n",
       "\n",
       "       [[10, 11, 12],\n",
       "        [13, 14, 15],\n",
       "        [16, 17, 18]]])"
      ]
     },
     "execution_count": 20,
     "metadata": {},
     "output_type": "execute_result"
    }
   ],
   "source": [
    "a3"
   ]
  },
  {
   "cell_type": "code",
   "execution_count": 21,
   "id": "855e434d-7e43-4ce4-bf37-5eae033265be",
   "metadata": {},
   "outputs": [
    {
     "data": {
      "text/plain": [
       "1"
      ]
     },
     "execution_count": 21,
     "metadata": {},
     "output_type": "execute_result"
    }
   ],
   "source": [
    "a1[0]"
   ]
  },
  {
   "cell_type": "code",
   "execution_count": 22,
   "id": "09a0519c-f9c2-4333-8024-54b0a95fa5d9",
   "metadata": {},
   "outputs": [
    {
     "data": {
      "text/plain": [
       "array([1. , 2. , 3.3])"
      ]
     },
     "execution_count": 22,
     "metadata": {},
     "output_type": "execute_result"
    }
   ],
   "source": [
    "a2[0]"
   ]
  },
  {
   "cell_type": "code",
   "execution_count": 23,
   "id": "e6639038-84e4-4b75-bcbb-46040860ebdf",
   "metadata": {},
   "outputs": [
    {
     "data": {
      "text/plain": [
       "array([[1, 2, 3],\n",
       "       [4, 5, 6],\n",
       "       [7, 8, 9]])"
      ]
     },
     "execution_count": 23,
     "metadata": {},
     "output_type": "execute_result"
    }
   ],
   "source": [
    "a3[0]"
   ]
  },
  {
   "cell_type": "code",
   "execution_count": 24,
   "id": "6e02a334-98bf-442c-972c-b53bcc4b6dd1",
   "metadata": {},
   "outputs": [
    {
     "data": {
      "text/plain": [
       "array([[[ 1,  2],\n",
       "        [ 4,  5]],\n",
       "\n",
       "       [[10, 11],\n",
       "        [13, 14]]])"
      ]
     },
     "execution_count": 24,
     "metadata": {},
     "output_type": "execute_result"
    }
   ],
   "source": [
    "#we can also apply slicing to select only a fixed set of elements\n",
    "a3[:2,:2,:2]"
   ]
  },
  {
   "cell_type": "code",
   "execution_count": 25,
   "id": "c368d145-d51a-40e7-bc7b-5de1a1ee57dd",
   "metadata": {},
   "outputs": [
    {
     "data": {
      "text/plain": [
       "array([[[[4, 0, 9, 6, 2],\n",
       "         [4, 1, 5, 3, 4],\n",
       "         [4, 3, 7, 1, 1],\n",
       "         [7, 7, 0, 2, 9]],\n",
       "\n",
       "        [[9, 3, 2, 5, 8],\n",
       "         [1, 0, 7, 6, 2],\n",
       "         [0, 8, 2, 5, 1],\n",
       "         [8, 1, 5, 4, 2]],\n",
       "\n",
       "        [[8, 3, 5, 0, 9],\n",
       "         [3, 6, 3, 4, 7],\n",
       "         [6, 3, 9, 0, 4],\n",
       "         [4, 5, 7, 6, 6]]],\n",
       "\n",
       "\n",
       "       [[[2, 4, 2, 7, 1],\n",
       "         [6, 6, 0, 7, 2],\n",
       "         [3, 5, 4, 2, 4],\n",
       "         [3, 7, 9, 0, 0]],\n",
       "\n",
       "        [[5, 9, 6, 6, 5],\n",
       "         [6, 4, 7, 3, 9],\n",
       "         [2, 3, 8, 7, 1],\n",
       "         [5, 9, 3, 0, 6]],\n",
       "\n",
       "        [[2, 3, 4, 8, 9],\n",
       "         [8, 5, 2, 7, 5],\n",
       "         [9, 0, 9, 8, 6],\n",
       "         [2, 0, 5, 3, 2]]]])"
      ]
     },
     "execution_count": 25,
     "metadata": {},
     "output_type": "execute_result"
    }
   ],
   "source": [
    "a4 = np.random.randint(10,size=(2,3,4,5))\n",
    "a4"
   ]
  },
  {
   "cell_type": "code",
   "execution_count": 26,
   "id": "a33c66a7-5275-4d3e-aaf0-9b8cd9a92a42",
   "metadata": {},
   "outputs": [
    {
     "data": {
      "text/plain": [
       "((2, 3, 4, 5), 4)"
      ]
     },
     "execution_count": 26,
     "metadata": {},
     "output_type": "execute_result"
    }
   ],
   "source": [
    "a4.shape , a4.ndim"
   ]
  },
  {
   "cell_type": "code",
   "execution_count": 27,
   "id": "45953793-1087-4cfc-84b3-d6d5ed17b847",
   "metadata": {},
   "outputs": [
    {
     "data": {
      "text/plain": [
       "array([[[[4, 0, 9, 6],\n",
       "         [4, 1, 5, 3],\n",
       "         [4, 3, 7, 1],\n",
       "         [7, 7, 0, 2]],\n",
       "\n",
       "        [[9, 3, 2, 5],\n",
       "         [1, 0, 7, 6],\n",
       "         [0, 8, 2, 5],\n",
       "         [8, 1, 5, 4]],\n",
       "\n",
       "        [[8, 3, 5, 0],\n",
       "         [3, 6, 3, 4],\n",
       "         [6, 3, 9, 0],\n",
       "         [4, 5, 7, 6]]],\n",
       "\n",
       "\n",
       "       [[[2, 4, 2, 7],\n",
       "         [6, 6, 0, 7],\n",
       "         [3, 5, 4, 2],\n",
       "         [3, 7, 9, 0]],\n",
       "\n",
       "        [[5, 9, 6, 6],\n",
       "         [6, 4, 7, 3],\n",
       "         [2, 3, 8, 7],\n",
       "         [5, 9, 3, 0]],\n",
       "\n",
       "        [[2, 3, 4, 8],\n",
       "         [8, 5, 2, 7],\n",
       "         [9, 0, 9, 8],\n",
       "         [2, 0, 5, 3]]]])"
      ]
     },
     "execution_count": 27,
     "metadata": {},
     "output_type": "execute_result"
    }
   ],
   "source": [
    "#get the first 4 numbers of the the inner most arrays\n",
    "a4[:, :, :, :4]"
   ]
  },
  {
   "cell_type": "markdown",
   "id": "2815930f-145d-4b1f-b85d-f5f074a34c96",
   "metadata": {},
   "source": [
    "<h1> manipulating and comparing arrays</h1>"
   ]
  },
  {
   "cell_type": "markdown",
   "id": "99aa0e7d-f4c8-4b83-90c2-4e94fbad01bf",
   "metadata": {},
   "source": [
    "### Arithmatic"
   ]
  },
  {
   "cell_type": "code",
   "execution_count": 28,
   "id": "7862d1c2-b10f-48cf-a965-43c6ee1f55a5",
   "metadata": {},
   "outputs": [
    {
     "data": {
      "text/plain": [
       "array([1, 2, 3])"
      ]
     },
     "execution_count": 28,
     "metadata": {},
     "output_type": "execute_result"
    }
   ],
   "source": [
    "a1"
   ]
  },
  {
   "cell_type": "code",
   "execution_count": 29,
   "id": "f68f8653-b6e9-4397-80a5-d00cb9fb5f8c",
   "metadata": {},
   "outputs": [
    {
     "data": {
      "text/plain": [
       "array([1., 1., 1.])"
      ]
     },
     "execution_count": 29,
     "metadata": {},
     "output_type": "execute_result"
    }
   ],
   "source": [
    "ones = np.ones(3)\n",
    "ones"
   ]
  },
  {
   "cell_type": "code",
   "execution_count": 30,
   "id": "e59de7fb-a4da-437b-91c2-d5c952a6b9d3",
   "metadata": {},
   "outputs": [
    {
     "data": {
      "text/plain": [
       "array([2., 3., 4.])"
      ]
     },
     "execution_count": 30,
     "metadata": {},
     "output_type": "execute_result"
    }
   ],
   "source": [
    "#addition\n",
    "a1 + ones"
   ]
  },
  {
   "cell_type": "code",
   "execution_count": 31,
   "id": "02c1a4ee-5607-44ab-9060-61f00bb46ca4",
   "metadata": {},
   "outputs": [
    {
     "data": {
      "text/plain": [
       "array([0., 1., 2.])"
      ]
     },
     "execution_count": 31,
     "metadata": {},
     "output_type": "execute_result"
    }
   ],
   "source": [
    "#subtraction\n",
    "a1 - ones"
   ]
  },
  {
   "cell_type": "code",
   "execution_count": 32,
   "id": "a55c93cb-4dff-422e-b22c-bed3b75c1f64",
   "metadata": {},
   "outputs": [
    {
     "data": {
      "text/plain": [
       "array([1., 2., 3.])"
      ]
     },
     "execution_count": 32,
     "metadata": {},
     "output_type": "execute_result"
    }
   ],
   "source": [
    "#multiplication\n",
    "a1 * ones"
   ]
  },
  {
   "cell_type": "code",
   "execution_count": 33,
   "id": "7f6f7e22-a51b-43cb-994e-6b70eba2a3da",
   "metadata": {},
   "outputs": [
    {
     "data": {
      "text/plain": [
       "array([[1. , 2. , 3.3],\n",
       "       [4. , 5. , 6.5]])"
      ]
     },
     "execution_count": 33,
     "metadata": {},
     "output_type": "execute_result"
    }
   ],
   "source": [
    "a2"
   ]
  },
  {
   "cell_type": "code",
   "execution_count": 34,
   "id": "1c61a5fd-910c-4c2b-a404-8570183086d9",
   "metadata": {},
   "outputs": [
    {
     "data": {
      "text/plain": [
       "array([[ 1. ,  4. ,  9.9],\n",
       "       [ 4. , 10. , 19.5]])"
      ]
     },
     "execution_count": 34,
     "metadata": {},
     "output_type": "execute_result"
    }
   ],
   "source": [
    "a1 * a2"
   ]
  },
  {
   "cell_type": "code",
   "execution_count": 35,
   "id": "4d60e08e-8340-4e6a-9376-0fbe0509da35",
   "metadata": {},
   "outputs": [],
   "source": [
    "# however uncommenting the below will give error since the dimensions are not compatible\n",
    "# search-  how to reshape numpy array\n",
    "# a2 * a3"
   ]
  },
  {
   "cell_type": "code",
   "execution_count": 36,
   "id": "3cf7e4cd-d3d0-43ad-b447-134d416c74cc",
   "metadata": {},
   "outputs": [
    {
     "data": {
      "text/plain": [
       "array([1., 2., 3.])"
      ]
     },
     "execution_count": 36,
     "metadata": {},
     "output_type": "execute_result"
    }
   ],
   "source": [
    "## division \n",
    "a1 / ones"
   ]
  },
  {
   "cell_type": "code",
   "execution_count": 37,
   "id": "09f4e99d-90e9-4163-a14f-513545312a0e",
   "metadata": {},
   "outputs": [
    {
     "data": {
      "text/plain": [
       "array([[1.        , 1.        , 1.1       ],\n",
       "       [4.        , 2.5       , 2.16666667]])"
      ]
     },
     "execution_count": 37,
     "metadata": {},
     "output_type": "execute_result"
    }
   ],
   "source": [
    "a2 / a1"
   ]
  },
  {
   "cell_type": "code",
   "execution_count": 38,
   "id": "61d1de24-ffde-4214-8707-4ee019762fa8",
   "metadata": {},
   "outputs": [
    {
     "data": {
      "text/plain": [
       "array([[1., 1., 1.],\n",
       "       [4., 2., 2.]])"
      ]
     },
     "execution_count": 38,
     "metadata": {},
     "output_type": "execute_result"
    }
   ],
   "source": [
    "## floor division removes the dcimals [rounds down]\n",
    "a2 // a1"
   ]
  },
  {
   "cell_type": "code",
   "execution_count": 39,
   "id": "5e47e47a-4ab6-4e24-a2eb-7ed41917c38c",
   "metadata": {},
   "outputs": [
    {
     "data": {
      "text/plain": [
       "array([[ 1.  ,  4.  , 10.89],\n",
       "       [16.  , 25.  , 42.25]])"
      ]
     },
     "execution_count": 39,
     "metadata": {},
     "output_type": "execute_result"
    }
   ],
   "source": [
    "# power \n",
    "a2 ** 2"
   ]
  },
  {
   "cell_type": "code",
   "execution_count": 40,
   "id": "b61c6a62-c554-4465-9ad3-992562fa7139",
   "metadata": {},
   "outputs": [
    {
     "data": {
      "text/plain": [
       "array([[ 1.  ,  4.  , 10.89],\n",
       "       [16.  , 25.  , 42.25]])"
      ]
     },
     "execution_count": 40,
     "metadata": {},
     "output_type": "execute_result"
    }
   ],
   "source": [
    "np.square(a2)"
   ]
  },
  {
   "cell_type": "code",
   "execution_count": 41,
   "id": "209c6bb8-9291-4184-8874-003b9231e105",
   "metadata": {},
   "outputs": [
    {
     "data": {
      "text/plain": [
       "array([1, 0, 1], dtype=int32)"
      ]
     },
     "execution_count": 41,
     "metadata": {},
     "output_type": "execute_result"
    }
   ],
   "source": [
    "# to do modular division \n",
    "a1 % 2"
   ]
  },
  {
   "cell_type": "code",
   "execution_count": 42,
   "id": "7936adab-37ea-497c-964d-fde940eb702a",
   "metadata": {},
   "outputs": [
    {
     "data": {
      "text/plain": [
       "array([ 2.71828183,  7.3890561 , 20.08553692])"
      ]
     },
     "execution_count": 42,
     "metadata": {},
     "output_type": "execute_result"
    }
   ],
   "source": [
    "# to get exponential\n",
    "np.exp(a1)"
   ]
  },
  {
   "cell_type": "code",
   "execution_count": 43,
   "id": "12093520-094f-4309-8ca9-6ef0c8da07c8",
   "metadata": {},
   "outputs": [
    {
     "data": {
      "text/plain": [
       "array([0.        , 0.69314718, 1.09861229])"
      ]
     },
     "execution_count": 43,
     "metadata": {},
     "output_type": "execute_result"
    }
   ],
   "source": [
    "# to get the log value\n",
    "np.log(a1)"
   ]
  },
  {
   "cell_type": "markdown",
   "id": "9858504d-477c-4b87-a045-cb9bf6e18568",
   "metadata": {},
   "source": [
    "### Aggregation\n",
    "\n",
    "aggregation = performing the same operation on a number of things"
   ]
  },
  {
   "cell_type": "code",
   "execution_count": 44,
   "id": "cbf51bb0-f083-4bfc-8807-ede56c25f61b",
   "metadata": {},
   "outputs": [
    {
     "data": {
      "text/plain": [
       "6"
      ]
     },
     "execution_count": 44,
     "metadata": {},
     "output_type": "execute_result"
    }
   ],
   "source": [
    "#using python function to do sum\n",
    "sum(a1)"
   ]
  },
  {
   "cell_type": "code",
   "execution_count": 45,
   "id": "194573ad-7b8f-4f0f-8350-770ae62fffd3",
   "metadata": {},
   "outputs": [
    {
     "data": {
      "text/plain": [
       "6"
      ]
     },
     "execution_count": 45,
     "metadata": {},
     "output_type": "execute_result"
    }
   ],
   "source": [
    "#using numpy function to do the sum\n",
    "np.sum(a1)"
   ]
  },
  {
   "cell_type": "code",
   "execution_count": 46,
   "id": "3febe604-5044-42cc-b9dc-d53526601bab",
   "metadata": {},
   "outputs": [
    {
     "data": {
      "text/plain": [
       "100000"
      ]
     },
     "execution_count": 46,
     "metadata": {},
     "output_type": "execute_result"
    }
   ],
   "source": [
    "#though both does the same . but the difference in performce is visibible for larger dataset\n",
    "# creating a massicve numpy array\n",
    "massive_array = np.random.random(100000)\n",
    "massive_array.size"
   ]
  },
  {
   "cell_type": "code",
   "execution_count": 47,
   "id": "fb15fcb9-6129-4539-8359-0df652c994f3",
   "metadata": {},
   "outputs": [
    {
     "name": "stdout",
     "output_type": "stream",
     "text": [
      "4.41 ms ± 8.98 μs per loop (mean ± std. dev. of 7 runs, 100 loops each)\n",
      "16.1 μs ± 496 ns per loop (mean ± std. dev. of 7 runs, 100,000 loops each)\n"
     ]
    }
   ],
   "source": [
    "%timeit sum(massive_array) #using python's sum\n",
    "%timeit np.sum(massive_array) #numpy's sum\n",
    "# thus the numpy sum is way more faster"
   ]
  },
  {
   "cell_type": "code",
   "execution_count": 48,
   "id": "1b4c6f82-1642-430f-b151-fb42a8b58f3d",
   "metadata": {},
   "outputs": [
    {
     "data": {
      "text/plain": [
       "3.6333333333333333"
      ]
     },
     "execution_count": 48,
     "metadata": {},
     "output_type": "execute_result"
    }
   ],
   "source": [
    "### finding mean \n",
    "np.mean(a2)"
   ]
  },
  {
   "cell_type": "code",
   "execution_count": 49,
   "id": "1ef85a7c-1101-4685-a44e-c9c1bf96ed2a",
   "metadata": {},
   "outputs": [
    {
     "data": {
      "text/plain": [
       "6.5"
      ]
     },
     "execution_count": 49,
     "metadata": {},
     "output_type": "execute_result"
    }
   ],
   "source": [
    "## find max\n",
    "np.max(a2)"
   ]
  },
  {
   "cell_type": "code",
   "execution_count": 50,
   "id": "9aa4dfbf-906a-4b9f-af38-d0396f4e937a",
   "metadata": {},
   "outputs": [
    {
     "data": {
      "text/plain": [
       "1.0"
      ]
     },
     "execution_count": 50,
     "metadata": {},
     "output_type": "execute_result"
    }
   ],
   "source": [
    "# finding min\n",
    "np.min(a2)"
   ]
  },
  {
   "cell_type": "code",
   "execution_count": 51,
   "id": "2efe2f7f-ade6-4bac-89b6-7deac2b023b7",
   "metadata": {},
   "outputs": [
    {
     "data": {
      "text/plain": [
       "1.8226964152656422"
      ]
     },
     "execution_count": 51,
     "metadata": {},
     "output_type": "execute_result"
    }
   ],
   "source": [
    "# finding stardard deviation\n",
    "# standard deviation = a measure of how spread out a group of number is from the mean\n",
    "np.std(a2)"
   ]
  },
  {
   "cell_type": "code",
   "execution_count": 52,
   "id": "4eaa9cd0-01a8-40a6-8586-f528a156cb92",
   "metadata": {},
   "outputs": [
    {
     "data": {
      "text/plain": [
       "3.3222222222222224"
      ]
     },
     "execution_count": 52,
     "metadata": {},
     "output_type": "execute_result"
    }
   ],
   "source": [
    "# finding variance\n",
    "# variance = meansure of the average degree to which each number is different to the mean\n",
    "# higher variance = wider range of numbers\n",
    "# lower variance = lower range of numbers\n",
    "np.var(a2)"
   ]
  },
  {
   "cell_type": "code",
   "execution_count": 53,
   "id": "f2bdc446-1ecf-4ea5-8e9e-276f3165040e",
   "metadata": {},
   "outputs": [
    {
     "data": {
      "text/plain": [
       "1.8226964152656422"
      ]
     },
     "execution_count": 53,
     "metadata": {},
     "output_type": "execute_result"
    }
   ],
   "source": [
    "# standard deviation = squareroot of variance\n",
    "np.sqrt(np.var(a2))"
   ]
  },
  {
   "cell_type": "markdown",
   "id": "74ebd022-0386-4432-8b69-e47a693c5d2b",
   "metadata": {},
   "source": [
    "### Reshape and transpose"
   ]
  },
  {
   "cell_type": "code",
   "execution_count": 54,
   "id": "dc2def10-0f99-494b-bdab-ddd14352edfa",
   "metadata": {},
   "outputs": [],
   "source": [
    "# the below line if uncommented gives error since they could not be broadcast together\n",
    "# i.e. when operating on two arrays , Numpy compares their shapes element-wise . its starts \n",
    "# with the trailing dimensions, and works its way forward.k Two dimensions are compatible when\n",
    "#   1. they are equal or \n",
    "#   2. one of them is 1\n",
    "\n",
    "# a2 * a3"
   ]
  },
  {
   "cell_type": "code",
   "execution_count": 55,
   "id": "be690c9a-2923-4a6b-bf81-f41a5ead6f26",
   "metadata": {},
   "outputs": [
    {
     "data": {
      "text/plain": [
       "((2, 3), (2, 3, 3))"
      ]
     },
     "execution_count": 55,
     "metadata": {},
     "output_type": "execute_result"
    }
   ],
   "source": [
    "a2.shape , a3.shape"
   ]
  },
  {
   "cell_type": "code",
   "execution_count": 56,
   "id": "2dc3ecb5-2d1f-4a35-aaa4-ad02929f095f",
   "metadata": {},
   "outputs": [
    {
     "data": {
      "text/plain": [
       "(2, 3, 1)"
      ]
     },
     "execution_count": 56,
     "metadata": {},
     "output_type": "execute_result"
    }
   ],
   "source": [
    "# in order to do mulitplication between these two we have reshape a2. \n",
    "# this is done as shown below \n",
    "a2.reshape(2,3,1).shape"
   ]
  },
  {
   "cell_type": "code",
   "execution_count": 57,
   "id": "2970600a-2e4e-4de9-81a6-103db654173b",
   "metadata": {},
   "outputs": [
    {
     "data": {
      "text/plain": [
       "array([[[  1. ,   2. ,   3. ],\n",
       "        [  8. ,  10. ,  12. ],\n",
       "        [ 23.1,  26.4,  29.7]],\n",
       "\n",
       "       [[ 40. ,  44. ,  48. ],\n",
       "        [ 65. ,  70. ,  75. ],\n",
       "        [104. , 110.5, 117. ]]])"
      ]
     },
     "execution_count": 57,
     "metadata": {},
     "output_type": "execute_result"
    }
   ],
   "source": [
    "# thus to do multiplication \n",
    "a2_reshaped = a2.reshape(2,3,1)\n",
    "a2_reshaped * a3"
   ]
  },
  {
   "cell_type": "code",
   "execution_count": 58,
   "id": "b6400f81-2df2-408b-b930-bbb306001d97",
   "metadata": {},
   "outputs": [
    {
     "data": {
      "text/plain": [
       "array([[1. , 2. , 3.3],\n",
       "       [4. , 5. , 6.5]])"
      ]
     },
     "execution_count": 58,
     "metadata": {},
     "output_type": "execute_result"
    }
   ],
   "source": [
    "## transpose \n",
    "a2"
   ]
  },
  {
   "cell_type": "code",
   "execution_count": 59,
   "id": "7c666272-949e-450c-9ad5-e0fde88bc777",
   "metadata": {},
   "outputs": [
    {
     "data": {
      "text/plain": [
       "array([[1. , 4. ],\n",
       "       [2. , 5. ],\n",
       "       [3.3, 6.5]])"
      ]
     },
     "execution_count": 59,
     "metadata": {},
     "output_type": "execute_result"
    }
   ],
   "source": [
    "# we can do transpose the matrix as shown below \n",
    "a2.T"
   ]
  },
  {
   "cell_type": "code",
   "execution_count": 60,
   "id": "6c9ac5d1-9249-4748-be01-743e21cd2585",
   "metadata": {},
   "outputs": [
    {
     "data": {
      "text/plain": [
       "((2, 3), (3, 2))"
      ]
     },
     "execution_count": 60,
     "metadata": {},
     "output_type": "execute_result"
    }
   ],
   "source": [
    "a2.shape , a2.T.shape"
   ]
  },
  {
   "cell_type": "markdown",
   "id": "8f247ffc-eb19-40d5-9819-7ef0c462e43e",
   "metadata": {},
   "source": [
    "<h1>Dot product</h1>"
   ]
  },
  {
   "cell_type": "code",
   "execution_count": null,
   "id": "349a8e84-d5fb-47ee-9c81-9c2ea95e8e81",
   "metadata": {},
   "outputs": [],
   "source": []
  }
 ],
 "metadata": {
  "kernelspec": {
   "display_name": "Python 3 (ipykernel)",
   "language": "python",
   "name": "python3"
  },
  "language_info": {
   "codemirror_mode": {
    "name": "ipython",
    "version": 3
   },
   "file_extension": ".py",
   "mimetype": "text/x-python",
   "name": "python",
   "nbconvert_exporter": "python",
   "pygments_lexer": "ipython3",
   "version": "3.12.5"
  }
 },
 "nbformat": 4,
 "nbformat_minor": 5
}
